{
 "cells": [
  {
   "cell_type": "markdown",
   "metadata": {},
   "source": "- env: 2.x\n\n- Chen, on Jan. 28, 2020"
  },
  {
   "cell_type": "code",
   "execution_count": 23,
   "metadata": {},
   "outputs": [],
   "source": "import os\nimport pandas as pd\nimport graphlab as gl\nfrom datetime import datetime"
  },
  {
   "cell_type": "code",
   "execution_count": 32,
   "metadata": {},
   "outputs": [],
   "source": "# core function, also the only function\ndef mergeAll(datafolder):\n    # meta frame\n    frame_meta = pd.DataFrame(columns=['created_at', 'date', 'time', 'timezone'])\n    idx, row_sum = 0, 0\n    for data in os.listdir(datafolder):\n        # print data\n        if '.csv' in data:\n            temp = pd.read_csv(datafolder + data, header=0, sep=',', dtype=str)\n            # drop duplicates by tweet id\n            temp.drop_duplicates('id', keep='first', inplace=True)\n            print 'data file %s has: %s row, %s columns'%(idx + 1, temp.shape[0], temp.shape[1])\n            idx += 1\n            row_sum += temp.shape[0]\n            frame_meta = pd.concat([frame_meta, temp[['created_at', 'date', 'time', 'timezone']]], axis=0)\n    print '---------- \\n\\n All data files in {} have total number of rows: {}'.format(datafolder, row_sum)\n    print '~~frame_meta~~ at this stage has %s row, %s columns'%(frame_meta.shape[0], frame_meta.shape[1])\n    return frame_meta"
  },
  {
   "cell_type": "markdown",
   "metadata": {},
   "source": "## `./data/retweet_false/`"
  },
  {
   "cell_type": "code",
   "execution_count": 25,
   "metadata": {},
   "outputs": [
    {
     "name": "stdout",
     "output_type": "stream",
     "text": "data file 1 has: 1206 row, 34 columns\ndata file 2 has: 125 row, 34 columns\ndata file 3 has: 2 row, 34 columns\ndata file 4 has: 5 row, 34 columns\ndata file 5 has: 26561 row, 34 columns\ndata file 6 has: 140950 row, 34 columns\ndata file 7 has: 132545 row, 34 columns\ndata file 8 has: 102 row, 34 columns\ndata file 9 has: 107 row, 34 columns\ndata file 10 has: 6977 row, 34 columns\ndata file 11 has: 5436 row, 34 columns\ndata file 12 has: 61867 row, 34 columns\ndata file 13 has: 92000 row, 34 columns\ndata file 14 has: 22755 row, 34 columns\ndata file 15 has: 3644 row, 34 columns\ndata file 16 has: 3469 row, 34 columns\ndata file 17 has: 4930 row, 34 columns\ndata file 18 has: 3863 row, 34 columns\ndata file 19 has: 14450 row, 34 columns\ndata file 20 has: 4048 row, 34 columns\ndata file 21 has: 22575 row, 34 columns\ndata file 22 has: 11508 row, 34 columns\ndata file 23 has: 639 row, 34 columns\ndata file 24 has: 10003 row, 34 columns\ndata file 25 has: 2829 row, 34 columns\ndata file 26 has: 7677 row, 34 columns\ndata file 27 has: 133 row, 34 columns\ndata file 28 has: 83762 row, 34 columns\ndata file 29 has: 83 row, 34 columns\ndata file 30 has: 3350 row, 34 columns\ndata file 31 has: 2164 row, 34 columns\ndata file 32 has: 11 row, 34 columns\ndata file 33 has: 20651 row, 34 columns\ndata file 34 has: 9018 row, 34 columns\ndata file 35 has: 1750 row, 34 columns\ndata file 36 has: 9465 row, 34 columns\ndata file 37 has: 10269 row, 34 columns\ndata file 38 has: 2392 row, 34 columns\ndata file 39 has: 426 row, 34 columns\ndata file 40 has: 4104 row, 34 columns\ndata file 41 has: 1844 row, 34 columns\ndata file 42 has: 65373 row, 34 columns\ndata file 43 has: 38 row, 34 columns\ndata file 44 has: 53387 row, 34 columns\ndata file 45 has: 33550 row, 34 columns\ndata file 46 has: 7 row, 34 columns\ndata file 47 has: 3314 row, 34 columns\ndata file 48 has: 36 row, 34 columns\ndata file 49 has: 16618 row, 34 columns\ndata file 50 has: 2747 row, 34 columns\ndata file 51 has: 46923 row, 34 columns\ndata file 52 has: 4214 row, 34 columns\ndata file 53 has: 122 row, 34 columns\ndata file 54 has: 129 row, 34 columns\ndata file 55 has: 24 row, 34 columns\ndata file 56 has: 12358 row, 34 columns\ndata file 57 has: 7355 row, 34 columns\ndata file 58 has: 7370 row, 34 columns\ndata file 59 has: 2283 row, 34 columns\ndata file 60 has: 34 row, 34 columns\ndata file 61 has: 13420 row, 34 columns\ndata file 62 has: 715 row, 34 columns\ndata file 63 has: 11116 row, 34 columns\ndata file 64 has: 6021 row, 34 columns\ndata file 65 has: 4803 row, 34 columns\ndata file 66 has: 2688 row, 34 columns\ndata file 67 has: 17561 row, 34 columns\ndata file 68 has: 1859 row, 34 columns\ndata file 69 has: 30909 row, 34 columns\ndata file 70 has: 2 row, 34 columns\ndata file 71 has: 3562 row, 34 columns\ndata file 72 has: 2884 row, 34 columns\ndata file 73 has: 1409 row, 34 columns\ndata file 74 has: 343 row, 34 columns\ndata file 75 has: 3762 row, 34 columns\ndata file 76 has: 59 row, 34 columns\ndata file 77 has: 4968 row, 34 columns\ndata file 78 has: 62479 row, 34 columns\ndata file 79 has: 7123 row, 34 columns\ndata file 80 has: 549 row, 34 columns\ndata file 81 has: 4348 row, 34 columns\ndata file 82 has: 881 row, 34 columns\ndata file 83 has: 46150 row, 34 columns\ndata file 84 has: 533 row, 34 columns\ndata file 85 has: 39112 row, 34 columns\ndata file 86 has: 141 row, 34 columns\ndata file 87 has: 22647 row, 34 columns\ndata file 88 has: 27 row, 34 columns\ndata file 89 has: 3164 row, 34 columns\ndata file 90 has: 64 row, 34 columns\ndata file 91 has: 9365 row, 34 columns\ndata file 92 has: 1 row, 34 columns\ndata file 93 has: 682 row, 34 columns\ndata file 94 has: 4883 row, 34 columns\ndata file 95 has: 123 row, 34 columns\ndata file 96 has: 13264 row, 34 columns\ndata file 97 has: 9984 row, 34 columns\ndata file 98 has: 9543 row, 34 columns\ndata file 99 has: 13913 row, 34 columns\ndata file 100 has: 7234 row, 34 columns\ndata file 101 has: 102681 row, 34 columns\ndata file 102 has: 56 row, 34 columns\ndata file 103 has: 9335 row, 34 columns\ndata file 104 has: 28629 row, 34 columns\ndata file 105 has: 9158 row, 34 columns\ndata file 106 has: 898 row, 34 columns\ndata file 107 has: 1398776 row, 34 columns\ndata file 108 has: 478 row, 34 columns\ndata file 109 has: 2148 row, 34 columns\ndata file 110 has: 15999 row, 34 columns\ndata file 111 has: 26992 row, 34 columns\ndata file 112 has: 13197 row, 34 columns\ndata file 113 has: 679 row, 34 columns\ndata file 114 has: 12813 row, 34 columns\ndata file 115 has: 7864 row, 34 columns\ndata file 116 has: 44559 row, 34 columns\ndata file 117 has: 3586 row, 34 columns\ndata file 118 has: 2520 row, 34 columns\ndata file 119 has: 13 row, 34 columns\ndata file 120 has: 7178 row, 34 columns\ndata file 121 has: 67 row, 34 columns\ndata file 122 has: 9 row, 34 columns\ndata file 123 has: 124851 row, 34 columns\ndata file 124 has: 17375 row, 34 columns\ndata file 125 has: 52 row, 34 columns\ndata file 126 has: 109 row, 34 columns\ndata file 127 has: 4979 row, 34 columns\ndata file 128 has: 13530 row, 34 columns\ndata file 129 has: 1244 row, 34 columns\ndata file 130 has: 6542 row, 34 columns\ndata file 131 has: 289 row, 34 columns\n---------- \n\n All data files in ./data/retweet_false/ have total number of rows: 3204474\n~~frame_meta~~ at this stage has 3204474 row, 4 columns\n"
    }
   ],
   "source": "frame_meta_1 = mergeAll('./data/retweet_false/')"
  },
  {
   "cell_type": "markdown",
   "metadata": {},
   "source": "##  `./data/retweet_true/`"
  },
  {
   "cell_type": "code",
   "execution_count": 26,
   "metadata": {},
   "outputs": [
    {
     "name": "stdout",
     "output_type": "stream",
     "text": "data file 1 has: 136 row, 34 columns\ndata file 2 has: 390 row, 34 columns\ndata file 3 has: 5737 row, 34 columns\ndata file 4 has: 11958 row, 34 columns\ndata file 5 has: 11 row, 34 columns\ndata file 6 has: 286 row, 34 columns\ndata file 7 has: 17 row, 34 columns\ndata file 8 has: 154 row, 34 columns\ndata file 9 has: 2164 row, 34 columns\ndata file 10 has: 53 row, 34 columns\ndata file 11 has: 14 row, 34 columns\ndata file 12 has: 600 row, 34 columns\ndata file 13 has: 2716 row, 34 columns\ndata file 14 has: 133 row, 34 columns\ndata file 15 has: 28 row, 34 columns\ndata file 16 has: 19 row, 34 columns\ndata file 17 has: 12129 row, 34 columns\ndata file 18 has: 20 row, 34 columns\ndata file 19 has: 179 row, 34 columns\ndata file 20 has: 32 row, 34 columns\ndata file 21 has: 1202 row, 34 columns\ndata file 22 has: 146 row, 34 columns\ndata file 23 has: 8792 row, 34 columns\ndata file 24 has: 19422 row, 34 columns\ndata file 25 has: 7 row, 34 columns\ndata file 26 has: 7 row, 34 columns\ndata file 27 has: 48 row, 34 columns\ndata file 28 has: 60782 row, 34 columns\ndata file 29 has: 3 row, 34 columns\ndata file 30 has: 8 row, 34 columns\ndata file 31 has: 16 row, 34 columns\ndata file 32 has: 916 row, 34 columns\ndata file 33 has: 5116 row, 34 columns\ndata file 34 has: 1087 row, 34 columns\ndata file 35 has: 687 row, 34 columns\ndata file 36 has: 90 row, 34 columns\ndata file 37 has: 5 row, 34 columns\ndata file 38 has: 86 row, 34 columns\ndata file 39 has: 8219 row, 34 columns\ndata file 40 has: 8 row, 34 columns\ndata file 41 has: 45 row, 34 columns\ndata file 42 has: 7 row, 34 columns\ndata file 43 has: 55 row, 34 columns\ndata file 44 has: 202 row, 34 columns\ndata file 45 has: 80 row, 34 columns\ndata file 46 has: 4 row, 34 columns\ndata file 47 has: 31 row, 34 columns\ndata file 48 has: 45 row, 34 columns\ndata file 49 has: 1 row, 34 columns\ndata file 50 has: 4782 row, 34 columns\ndata file 51 has: 37 row, 34 columns\ndata file 52 has: 6 row, 34 columns\ndata file 53 has: 6 row, 34 columns\ndata file 54 has: 54 row, 34 columns\ndata file 55 has: 19 row, 34 columns\ndata file 56 has: 38 row, 34 columns\ndata file 57 has: 5 row, 34 columns\ndata file 58 has: 17 row, 34 columns\ndata file 59 has: 9 row, 34 columns\ndata file 60 has: 18 row, 34 columns\ndata file 61 has: 553 row, 34 columns\ndata file 62 has: 544 row, 34 columns\ndata file 63 has: 7 row, 34 columns\ndata file 64 has: 60 row, 34 columns\ndata file 65 has: 7 row, 34 columns\ndata file 66 has: 11 row, 34 columns\ndata file 67 has: 112 row, 34 columns\ndata file 68 has: 120 row, 34 columns\ndata file 69 has: 437 row, 34 columns\ndata file 70 has: 3146 row, 34 columns\ndata file 71 has: 10 row, 34 columns\ndata file 72 has: 1 row, 34 columns\ndata file 73 has: 913 row, 34 columns\ndata file 74 has: 695 row, 34 columns\ndata file 75 has: 65 row, 34 columns\ndata file 76 has: 9919 row, 34 columns\ndata file 77 has: 125 row, 34 columns\ndata file 78 has: 85 row, 34 columns\ndata file 79 has: 60 row, 34 columns\ndata file 80 has: 377 row, 34 columns\ndata file 81 has: 268 row, 34 columns\ndata file 82 has: 1130 row, 34 columns\ndata file 83 has: 1 row, 34 columns\ndata file 84 has: 5 row, 34 columns\ndata file 85 has: 564 row, 34 columns\ndata file 86 has: 72 row, 34 columns\ndata file 87 has: 155 row, 34 columns\ndata file 88 has: 74 row, 34 columns\ndata file 89 has: 4168 row, 34 columns\ndata file 90 has: 10 row, 34 columns\ndata file 91 has: 18 row, 34 columns\ndata file 92 has: 577 row, 34 columns\ndata file 93 has: 2969 row, 34 columns\ndata file 94 has: 3 row, 34 columns\ndata file 95 has: 115728 row, 34 columns\ndata file 96 has: 76 row, 34 columns\ndata file 97 has: 2 row, 34 columns\ndata file 98 has: 29 row, 34 columns\ndata file 99 has: 15247 row, 34 columns\ndata file 100 has: 12 row, 34 columns\ndata file 101 has: 17 row, 34 columns\ndata file 102 has: 60 row, 34 columns\ndata file 103 has: 32 row, 34 columns\ndata file 104 has: 65 row, 34 columns\ndata file 105 has: 27 row, 34 columns\ndata file 106 has: 5 row, 34 columns\ndata file 107 has: 3379 row, 34 columns\ndata file 108 has: 12 row, 34 columns\ndata file 109 has: 843 row, 34 columns\ndata file 110 has: 121 row, 34 columns\ndata file 111 has: 589 row, 34 columns\ndata file 112 has: 30 row, 34 columns\ndata file 113 has: 2948 row, 34 columns\n---------- \n\n All data files in ./data/retweet_true/ have total number of rows: 315367\n~~frame_meta~~ at this stage has 315367 row, 4 columns\n"
    }
   ],
   "source": "frame_meta_2 = mergeAll('./data/retweet_true/')"
  },
  {
   "cell_type": "markdown",
   "metadata": {},
   "source": "## `./taberez_data/`"
  },
  {
   "cell_type": "code",
   "execution_count": 33,
   "metadata": {},
   "outputs": [
    {
     "name": "stdout",
     "output_type": "stream",
     "text": "data file 1 has: 11 row, 34 columns\ndata file 2 has: 266 row, 34 columns\ndata file 3 has: 5685 row, 34 columns\ndata file 4 has: 12541 row, 34 columns\ndata file 5 has: 6 row, 34 columns\ndata file 6 has: 292 row, 34 columns\ndata file 7 has: 8 row, 34 columns\ndata file 8 has: 140 row, 34 columns\ndata file 9 has: 2350 row, 34 columns\ndata file 10 has: 48 row, 34 columns\ndata file 11 has: 11 row, 34 columns\ndata file 12 has: 283 row, 34 columns\ndata file 13 has: 253 row, 34 columns\ndata file 14 has: 129 row, 34 columns\ndata file 15 has: 19 row, 34 columns\ndata file 16 has: 8 row, 34 columns\ndata file 17 has: 6171 row, 34 columns\ndata file 18 has: 15 row, 34 columns\ndata file 19 has: 1 row, 34 columns\ndata file 20 has: 23 row, 34 columns\ndata file 21 has: 268 row, 35 columns\ndata file 22 has: 102 row, 34 columns\ndata file 23 has: 19900 row, 34 columns\ndata file 24 has: 4 row, 34 columns\ndata file 25 has: 7 row, 34 columns\ndata file 26 has: 41 row, 34 columns\ndata file 27 has: 56432 row, 34 columns\ndata file 28 has: 2 row, 34 columns\ndata file 29 has: 6 row, 34 columns\ndata file 30 has: 17 row, 34 columns\ndata file 31 has: 851 row, 34 columns\ndata file 32 has: 5745 row, 34 columns\ndata file 33 has: 1030 row, 34 columns\ndata file 34 has: 216 row, 34 columns\ndata file 35 has: 83 row, 34 columns\ndata file 36 has: 2 row, 34 columns\ndata file 37 has: 71 row, 34 columns\ndata file 38 has: 889 row, 34 columns\ndata file 39 has: 5 row, 34 columns\ndata file 40 has: 28 row, 34 columns\ndata file 41 has: 5 row, 34 columns\ndata file 42 has: 21 row, 34 columns\ndata file 43 has: 2 row, 34 columns\ndata file 44 has: 52 row, 34 columns\ndata file 45 has: 2 row, 34 columns\ndata file 46 has: 2 row, 34 columns\ndata file 47 has: 44 row, 34 columns\ndata file 48 has: 1 row, 34 columns\ndata file 49 has: 580 row, 34 columns\ndata file 50 has: 24 row, 34 columns\ndata file 51 has: 5 row, 34 columns\ndata file 52 has: 1 row, 34 columns\ndata file 53 has: 52 row, 34 columns\ndata file 54 has: 10 row, 34 columns\ndata file 55 has: 1 row, 34 columns\ndata file 56 has: 21 row, 34 columns\ndata file 57 has: 4 row, 34 columns\ndata file 58 has: 10 row, 34 columns\ndata file 59 has: 1 row, 34 columns\ndata file 60 has: 9 row, 34 columns\ndata file 61 has: 688 row, 34 columns\ndata file 62 has: 420 row, 34 columns\ndata file 63 has: 6 row, 34 columns\ndata file 64 has: 1 row, 34 columns\ndata file 65 has: 50 row, 34 columns\ndata file 66 has: 5 row, 34 columns\ndata file 67 has: 102 row, 34 columns\ndata file 68 has: 7 row, 34 columns\ndata file 69 has: 43 row, 34 columns\ndata file 70 has: 111 row, 34 columns\ndata file 71 has: 224 row, 34 columns\ndata file 72 has: 3323 row, 34 columns\ndata file 73 has: 7 row, 34 columns\ndata file 74 has: 1 row, 34 columns\ndata file 75 has: 821 row, 34 columns\ndata file 76 has: 590 row, 34 columns\ndata file 77 has: 56 row, 34 columns\ndata file 78 has: 10931 row, 34 columns\ndata file 79 has: 69 row, 34 columns\ndata file 80 has: 59 row, 34 columns\ndata file 81 has: 44 row, 34 columns\ndata file 82 has: 327 row, 34 columns\ndata file 83 has: 275 row, 34 columns\ndata file 84 has: 479 row, 34 columns\ndata file 85 has: 1 row, 34 columns\ndata file 86 has: 26 row, 34 columns\ndata file 87 has: 1155 row, 34 columns\ndata file 88 has: 50 row, 34 columns\ndata file 89 has: 100 row, 34 columns\ndata file 90 has: 72 row, 34 columns\ndata file 91 has: 3908 row, 34 columns\ndata file 92 has: 180 row, 34 columns\ndata file 93 has: 12 row, 34 columns\ndata file 94 has: 15 row, 34 columns\ndata file 95 has: 516 row, 34 columns\ndata file 96 has: 3491 row, 34 columns\ndata file 97 has: 12597 row, 34 columns\ndata file 98 has: 47 row, 34 columns\ndata file 99 has: 4 row, 34 columns\ndata file 100 has: 29 row, 34 columns\ndata file 101 has: 3744 row, 34 columns\ndata file 102 has: 22 row, 34 columns\ndata file 103 has: 13 row, 34 columns\ndata file 104 has: 70 row, 34 columns\ndata file 105 has: 18 row, 34 columns\ndata file 106 has: 60 row, 34 columns\ndata file 107 has: 7 row, 34 columns\ndata file 108 has: 34 row, 34 columns\ndata file 109 has: 1 row, 34 columns\ndata file 110 has: 3497 row, 34 columns\ndata file 111 has: 291 row, 34 columns\ndata file 112 has: 198 row, 34 columns\ndata file 113 has: 112 row, 34 columns\ndata file 114 has: 477 row, 34 columns\ndata file 115 has: 17 row, 34 columns\ndata file 116 has: 3498 row, 34 columns\n---------- \n\n All data files in ./taberez_data/ have total number of rows: 167707\n~~frame_meta~~ at this stage has 167707 row, 4 columns\n"
    }
   ],
   "source": "frame_meta_3 = mergeAll('./taberez_data/')"
  },
  {
   "cell_type": "markdown",
   "metadata": {},
   "source": "## `./twitter_data/`"
  },
  {
   "cell_type": "code",
   "execution_count": 34,
   "metadata": {},
   "outputs": [
    {
     "name": "stdout",
     "output_type": "stream",
     "text": "data file 1 has: 371 row, 34 columns\ndata file 2 has: 121 row, 34 columns\ndata file 3 has: 2 row, 34 columns\ndata file 4 has: 19 row, 34 columns\ndata file 5 has: 26485 row, 34 columns\ndata file 6 has: 138380 row, 34 columns\ndata file 7 has: 130189 row, 34 columns\ndata file 8 has: 105 row, 34 columns\ndata file 9 has: 95 row, 34 columns\ndata file 10 has: 7749 row, 34 columns\ndata file 11 has: 5424 row, 34 columns\ndata file 12 has: 62086 row, 34 columns\ndata file 13 has: 91108 row, 34 columns\ndata file 14 has: 22821 row, 34 columns\ndata file 15 has: 3912 row, 34 columns\ndata file 16 has: 3301 row, 34 columns\ndata file 17 has: 4938 row, 34 columns\ndata file 18 has: 6579 row, 34 columns\ndata file 19 has: 14484 row, 34 columns\ndata file 20 has: 4020 row, 34 columns\ndata file 21 has: 21423 row, 34 columns\ndata file 22 has: 12625 row, 34 columns\ndata file 23 has: 631 row, 34 columns\ndata file 24 has: 1671 row, 34 columns\ndata file 25 has: 7144 row, 34 columns\ndata file 26 has: 115 row, 34 columns\ndata file 27 has: 61600 row, 34 columns\ndata file 28 has: 3372 row, 34 columns\ndata file 29 has: 3679 row, 34 columns\ndata file 30 has: 13 row, 34 columns\ndata file 31 has: 21330 row, 34 columns\ndata file 32 has: 29639 row, 34 columns\ndata file 33 has: 9463 row, 34 columns\ndata file 34 has: 10313 row, 34 columns\ndata file 35 has: 32680 row, 34 columns\ndata file 36 has: 10062 row, 34 columns\ndata file 37 has: 2877 row, 34 columns\ndata file 38 has: 1722 row, 34 columns\ndata file 39 has: 65623 row, 34 columns\ndata file 40 has: 31 row, 34 columns\ndata file 41 has: 53537 row, 34 columns\ndata file 42 has: 26162 row, 34 columns\ndata file 43 has: 3642 row, 34 columns\ndata file 44 has: 33 row, 34 columns\ndata file 45 has: 18723 row, 34 columns\ndata file 46 has: 1233 row, 34 columns\ndata file 47 has: 47532 row, 34 columns\ndata file 48 has: 4344 row, 34 columns\ndata file 49 has: 109 row, 34 columns\ndata file 50 has: 126 row, 34 columns\ndata file 51 has: 19 row, 34 columns\ndata file 52 has: 12195 row, 34 columns\ndata file 53 has: 7355 row, 34 columns\ndata file 54 has: 7513 row, 34 columns\ndata file 55 has: 2260 row, 34 columns\ndata file 56 has: 19 row, 34 columns\ndata file 57 has: 13441 row, 34 columns\ndata file 58 has: 686 row, 34 columns\ndata file 59 has: 11107 row, 34 columns\ndata file 60 has: 6043 row, 34 columns\ndata file 61 has: 4794 row, 34 columns\ndata file 62 has: 2693 row, 34 columns\ndata file 63 has: 2242 row, 34 columns\ndata file 64 has: 30455 row, 34 columns\ndata file 65 has: 2 row, 34 columns\ndata file 66 has: 2924 row, 34 columns\ndata file 67 has: 1393 row, 34 columns\ndata file 68 has: 339 row, 34 columns\ndata file 69 has: 115 row, 34 columns\ndata file 70 has: 3813 row, 34 columns\ndata file 71 has: 32 row, 34 columns\ndata file 72 has: 4949 row, 34 columns\ndata file 73 has: 62061 row, 34 columns\ndata file 74 has: 6102 row, 34 columns\ndata file 75 has: 46440 row, 34 columns\ndata file 76 has: 517 row, 34 columns\ndata file 77 has: 43820 row, 34 columns\ndata file 78 has: 132 row, 34 columns\ndata file 79 has: 21189 row, 34 columns\ndata file 80 has: 10 row, 34 columns\ndata file 81 has: 3102 row, 34 columns\ndata file 82 has: 49 row, 34 columns\ndata file 83 has: 9163 row, 34 columns\ndata file 84 has: 1 row, 34 columns\ndata file 85 has: 526 row, 34 columns\ndata file 86 has: 4505 row, 34 columns\ndata file 87 has: 123 row, 34 columns\ndata file 88 has: 13265 row, 34 columns\ndata file 89 has: 30610 row, 34 columns\ndata file 90 has: 13434 row, 34 columns\ndata file 91 has: 23208 row, 34 columns\ndata file 92 has: 101129 row, 34 columns\ndata file 93 has: 4932 row, 34 columns\ndata file 94 has: 414 row, 34 columns\ndata file 95 has: 9384 row, 34 columns\ndata file 96 has: 28315 row, 34 columns\ndata file 97 has: 7286 row, 34 columns\ndata file 98 has: 900 row, 34 columns\ndata file 99 has: 583165 row, 34 columns\ndata file 100 has: 435 row, 34 columns\ndata file 101 has: 2147 row, 34 columns\ndata file 102 has: 16047 row, 34 columns\ndata file 103 has: 29588 row, 34 columns\ndata file 104 has: 13292 row, 34 columns\ndata file 105 has: 725 row, 34 columns\ndata file 106 has: 18169 row, 34 columns\ndata file 107 has: 7829 row, 34 columns\ndata file 108 has: 44895 row, 34 columns\ndata file 109 has: 4300 row, 34 columns\ndata file 110 has: 6773 row, 34 columns\ndata file 111 has: 2549 row, 34 columns\ndata file 112 has: 14 row, 34 columns\ndata file 113 has: 6656 row, 34 columns\ndata file 114 has: 66 row, 34 columns\ndata file 115 has: 13 row, 34 columns\ndata file 116 has: 126829 row, 34 columns\ndata file 117 has: 18390 row, 34 columns\ndata file 118 has: 53 row, 34 columns\ndata file 119 has: 110 row, 34 columns\ndata file 120 has: 4945 row, 34 columns\ndata file 121 has: 919 row, 34 columns\ndata file 122 has: 17429 row, 34 columns\ndata file 123 has: 5625 row, 34 columns\ndata file 124 has: 289 row, 34 columns\n---------- \n\n All data files in ./twitter_data/ have total number of rows: 2429901\n~~frame_meta~~ at this stage has 2429901 row, 4 columns\n"
    }
   ],
   "source": "frame_meta_4 = mergeAll('./twitter_data/')"
  },
  {
   "cell_type": "code",
   "execution_count": 39,
   "metadata": {},
   "outputs": [
    {
     "data": {
      "text/plain": "(6117449, 5)"
     },
     "execution_count": 39,
     "metadata": {},
     "output_type": "execute_result"
    }
   ],
   "source": "frame_meta_all = pd.concat([frame_meta_1, frame_meta_2, frame_meta_3, frame_meta_4], axis=0)\nframe_meta_all = frame_meta_all.reset_index()\nframe_meta_all.shape"
  },
  {
   "cell_type": "code",
   "execution_count": 40,
   "metadata": {},
   "outputs": [
    {
     "data": {
      "text/html": "<div>\n<style scoped>\n    .dataframe tbody tr th:only-of-type {\n        vertical-align: middle;\n    }\n\n    .dataframe tbody tr th {\n        vertical-align: top;\n    }\n\n    .dataframe thead th {\n        text-align: right;\n    }\n</style>\n<table border=\"1\" class=\"dataframe\">\n  <thead>\n    <tr style=\"text-align: right;\">\n      <th></th>\n      <th>index</th>\n      <th>created_at</th>\n      <th>date</th>\n      <th>time</th>\n      <th>timezone</th>\n    </tr>\n  </thead>\n  <tbody>\n    <tr>\n      <th>0</th>\n      <td>0</td>\n      <td>1579386142000</td>\n      <td>2020-01-19</td>\n      <td>06:22:22</td>\n      <td>CST</td>\n    </tr>\n    <tr>\n      <th>1</th>\n      <td>1</td>\n      <td>1579378556000</td>\n      <td>2020-01-19</td>\n      <td>04:15:56</td>\n      <td>CST</td>\n    </tr>\n    <tr>\n      <th>2</th>\n      <td>2</td>\n      <td>1579363210000</td>\n      <td>2020-01-19</td>\n      <td>00:00:10</td>\n      <td>CST</td>\n    </tr>\n    <tr>\n      <th>3</th>\n      <td>3</td>\n      <td>1579362792000</td>\n      <td>2020-01-18</td>\n      <td>23:53:12</td>\n      <td>CST</td>\n    </tr>\n    <tr>\n      <th>4</th>\n      <td>4</td>\n      <td>1579360726000</td>\n      <td>2020-01-18</td>\n      <td>23:18:46</td>\n      <td>CST</td>\n    </tr>\n  </tbody>\n</table>\n</div>",
      "text/plain": "   index     created_at        date      time timezone\n0      0  1579386142000  2020-01-19  06:22:22      CST\n1      1  1579378556000  2020-01-19  04:15:56      CST\n2      2  1579363210000  2020-01-19  00:00:10      CST\n3      3  1579362792000  2020-01-18  23:53:12      CST\n4      4  1579360726000  2020-01-18  23:18:46      CST"
     },
     "execution_count": 40,
     "metadata": {},
     "output_type": "execute_result"
    }
   ],
   "source": "frame_meta_all.head()"
  },
  {
   "cell_type": "code",
   "execution_count": 41,
   "metadata": {},
   "outputs": [
    {
     "data": {
      "text/plain": "CST     6117441\n8264          1\n353           1\n243           1\nName: timezone, dtype: int64"
     },
     "execution_count": 41,
     "metadata": {},
     "output_type": "execute_result"
    }
   ],
   "source": "frame_meta_all.timezone.value_counts()"
  },
  {
   "cell_type": "code",
   "execution_count": 43,
   "metadata": {},
   "outputs": [
    {
     "data": {
      "text/plain": "2019-12-16    351844\n2020-01-16    335998\n2019-12-17    262257\n2019-12-21    223999\n2019-12-20    205740\n2020-01-17    196453\n2019-12-19    194291\n2020-01-15    191615\n2019-12-12    189732\n2019-12-11    187626\n2019-12-22    185433\n2020-01-13    183278\n2019-12-14    170697\n2020-01-14    160266\n2019-12-30    156334\n2019-12-13    156207\n2019-12-31    154016\n2019-12-10    137757\n2020-01-18    133281\n2019-12-18    124123\n2019-12-23    123573\n2020-01-10    120610\n2020-01-11    114623\n2020-01-12    111298\n2020-01-09    108996\n2020-01-05    104627\n2020-01-02    104616\n2019-12-15    103857\n2020-01-04    103516\n2019-12-24     99892\n               ...  \n2017-05-22         1\n2017-01-21         1\n2019-04-02         1\n2018-09-15         1\n2018-09-17         1\n2018-09-16         1\n2019-06-08         1\n2019-02-24         1\n2016-08-21         1\n2016-05-20         1\n2018-06-15         1\n2018-11-02         1\n2011-06-05         1\n2015-09-17         1\n2015-09-11         1\n2016-08-30         1\n2019-07-14         1\n2014-01-06         1\n2012-05-31         1\n2016-10-10         1\n2014-02-28         1\n2018-06-17         1\n2018-07-06         1\n2018-07-05         1\n2018-08-26         1\n2018-08-25         1\n2018-05-15         1\n2018-07-09         1\n2018-07-08         1\n2014-11-28         1\nName: date, Length: 864, dtype: int64"
     },
     "execution_count": 43,
     "metadata": {},
     "output_type": "execute_result"
    }
   ],
   "source": "frame_meta_all.date.value_counts()"
  },
  {
   "cell_type": "code",
   "execution_count": 44,
   "metadata": {},
   "outputs": [],
   "source": "# export the final dataframe\nframe_meta_all.to_csv('./frame_meta_all.csv', header=True, sep=',', index=False)"
  },
  {
   "cell_type": "code",
   "execution_count": null,
   "metadata": {},
   "outputs": [],
   "source": ""
  }
 ],
 "metadata": {
  "kernelspec": {
   "display_name": "Python 2",
   "language": "python",
   "name": "python2"
  },
  "language_info": {
   "codemirror_mode": {
    "name": "ipython",
    "version": 2
   },
   "file_extension": ".py",
   "mimetype": "text/x-python",
   "name": "python",
   "nbconvert_exporter": "python",
   "pygments_lexer": "ipython2",
   "version": "2.7.13"
  },
  "toc": {
   "base_numbering": 1,
   "nav_menu": {},
   "number_sections": true,
   "sideBar": true,
   "skip_h1_title": false,
   "title_cell": "Table of Contents",
   "title_sidebar": "Contents",
   "toc_cell": false,
   "toc_position": {},
   "toc_section_display": true,
   "toc_window_display": false
  },
  "varInspector": {
   "cols": {
    "lenName": 16,
    "lenType": 16,
    "lenVar": 40
   },
   "kernels_config": {
    "python": {
     "delete_cmd_postfix": "",
     "delete_cmd_prefix": "del ",
     "library": "var_list.py",
     "varRefreshCmd": "print(var_dic_list())"
    },
    "r": {
     "delete_cmd_postfix": ") ",
     "delete_cmd_prefix": "rm(",
     "library": "var_list.r",
     "varRefreshCmd": "cat(var_dic_list()) "
    }
   },
   "types_to_exclude": [
    "module",
    "function",
    "builtin_function_or_method",
    "instance",
    "_Feature"
   ],
   "window_display": false
  }
 },
 "nbformat": 4,
 "nbformat_minor": 4
}
